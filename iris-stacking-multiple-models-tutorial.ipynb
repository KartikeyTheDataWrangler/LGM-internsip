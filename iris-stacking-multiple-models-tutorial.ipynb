{
 "cells": [
  {
   "cell_type": "markdown",
   "id": "8bb103f8",
   "metadata": {
    "papermill": {
     "duration": 0.007342,
     "end_time": "2023-04-26T08:01:50.878461",
     "exception": false,
     "start_time": "2023-04-26T08:01:50.871119",
     "status": "completed"
    },
    "tags": []
   },
   "source": [
    "# Importing required Libraries"
   ]
  },
  {
   "cell_type": "code",
   "execution_count": 1,
   "id": "7066c533",
   "metadata": {
    "execution": {
     "iopub.execute_input": "2023-04-26T08:01:50.893875Z",
     "iopub.status.busy": "2023-04-26T08:01:50.892701Z",
     "iopub.status.idle": "2023-04-26T08:01:52.290177Z",
     "shell.execute_reply": "2023-04-26T08:01:52.288932Z"
    },
    "papermill": {
     "duration": 1.408214,
     "end_time": "2023-04-26T08:01:52.293236",
     "exception": false,
     "start_time": "2023-04-26T08:01:50.885022",
     "status": "completed"
    },
    "tags": []
   },
   "outputs": [],
   "source": [
    "import numpy as np\n",
    "import pandas as pd\n",
    "from sklearn.preprocessing import OrdinalEncoder\n",
    "from sklearn.metrics import accuracy_score\n",
    "from sklearn.metrics import matthews_corrcoef\n",
    "from sklearn.metrics import f1_score\n",
    "from sklearn.metrics import confusion_matrix\n",
    "from sklearn.linear_model import LogisticRegression\n",
    "from sklearn.neighbors import KNeighborsClassifier\n",
    "from sklearn.svm import SVC\n",
    "from sklearn.tree import DecisionTreeClassifier\n",
    "from sklearn.ensemble import RandomForestClassifier\n",
    "from sklearn.neural_network import MLPClassifier\n",
    "from sklearn.ensemble import GradientBoostingClassifier\n",
    "from sklearn.base import clone\n",
    "from sklearn.ensemble import StackingClassifier\n",
    "from sklearn.model_selection import GridSearchCV\n",
    "\n",
    "from sklearn.model_selection import StratifiedKFold\n",
    "from sklearn.model_selection import train_test_split\n",
    "\n",
    "import warnings\n",
    "warnings.filterwarnings('ignore')\n"
   ]
  },
  {
   "cell_type": "markdown",
   "id": "fc01a20c",
   "metadata": {
    "execution": {
     "iopub.execute_input": "2023-04-25T08:10:10.793084Z",
     "iopub.status.busy": "2023-04-25T08:10:10.792660Z",
     "iopub.status.idle": "2023-04-25T08:10:10.798010Z",
     "shell.execute_reply": "2023-04-25T08:10:10.797017Z",
     "shell.execute_reply.started": "2023-04-25T08:10:10.793048Z"
    },
    "papermill": {
     "duration": 0.005926,
     "end_time": "2023-04-26T08:01:52.305457",
     "exception": false,
     "start_time": "2023-04-26T08:01:52.299531",
     "status": "completed"
    },
    "tags": []
   },
   "source": [
    "# Feature selection and Modelling"
   ]
  },
  {
   "cell_type": "code",
   "execution_count": 2,
   "id": "33cd84f7",
   "metadata": {
    "execution": {
     "iopub.execute_input": "2023-04-26T08:01:52.319518Z",
     "iopub.status.busy": "2023-04-26T08:01:52.319113Z",
     "iopub.status.idle": "2023-04-26T08:01:52.342654Z",
     "shell.execute_reply": "2023-04-26T08:01:52.341531Z"
    },
    "papermill": {
     "duration": 0.033589,
     "end_time": "2023-04-26T08:01:52.345255",
     "exception": false,
     "start_time": "2023-04-26T08:01:52.311666",
     "status": "completed"
    },
    "tags": []
   },
   "outputs": [
    {
     "data": {
      "text/plain": [
       "(150, 6)"
      ]
     },
     "execution_count": 2,
     "metadata": {},
     "output_type": "execute_result"
    }
   ],
   "source": [
    "#reading the data \n",
    "iris = pd.read_csv(\"/kaggle/input/iris/Iris.csv\")\n",
    "iris.shape"
   ]
  },
  {
   "cell_type": "code",
   "execution_count": 3,
   "id": "ce4b5cda",
   "metadata": {
    "execution": {
     "iopub.execute_input": "2023-04-26T08:01:52.360031Z",
     "iopub.status.busy": "2023-04-26T08:01:52.359502Z",
     "iopub.status.idle": "2023-04-26T08:01:52.374375Z",
     "shell.execute_reply": "2023-04-26T08:01:52.373525Z"
    },
    "papermill": {
     "duration": 0.025065,
     "end_time": "2023-04-26T08:01:52.376844",
     "exception": false,
     "start_time": "2023-04-26T08:01:52.351779",
     "status": "completed"
    },
    "tags": []
   },
   "outputs": [],
   "source": [
    "X = iris.drop(\"Species\",axis=1)\n",
    "\n",
    "# encoding 'Species' columns\n",
    "\n",
    "oe = OrdinalEncoder()\n",
    "\n",
    "iris['Species'] = oe.fit_transform(iris['Species'].values.reshape(-1,1))\n",
    "y = iris['Species']\n"
   ]
  },
  {
   "cell_type": "code",
   "execution_count": 4,
   "id": "f8ee067a",
   "metadata": {
    "execution": {
     "iopub.execute_input": "2023-04-26T08:01:52.392469Z",
     "iopub.status.busy": "2023-04-26T08:01:52.391357Z",
     "iopub.status.idle": "2023-04-26T08:01:52.418766Z",
     "shell.execute_reply": "2023-04-26T08:01:52.417535Z"
    },
    "papermill": {
     "duration": 0.038052,
     "end_time": "2023-04-26T08:01:52.421248",
     "exception": false,
     "start_time": "2023-04-26T08:01:52.383196",
     "status": "completed"
    },
    "tags": []
   },
   "outputs": [
    {
     "data": {
      "text/html": [
       "<div>\n",
       "<style scoped>\n",
       "    .dataframe tbody tr th:only-of-type {\n",
       "        vertical-align: middle;\n",
       "    }\n",
       "\n",
       "    .dataframe tbody tr th {\n",
       "        vertical-align: top;\n",
       "    }\n",
       "\n",
       "    .dataframe thead th {\n",
       "        text-align: right;\n",
       "    }\n",
       "</style>\n",
       "<table border=\"1\" class=\"dataframe\">\n",
       "  <thead>\n",
       "    <tr style=\"text-align: right;\">\n",
       "      <th></th>\n",
       "      <th>Id</th>\n",
       "      <th>SepalLengthCm</th>\n",
       "      <th>SepalWidthCm</th>\n",
       "      <th>PetalLengthCm</th>\n",
       "      <th>PetalWidthCm</th>\n",
       "      <th>Species</th>\n",
       "    </tr>\n",
       "  </thead>\n",
       "  <tbody>\n",
       "    <tr>\n",
       "      <th>100</th>\n",
       "      <td>101</td>\n",
       "      <td>6.3</td>\n",
       "      <td>3.3</td>\n",
       "      <td>6.0</td>\n",
       "      <td>2.5</td>\n",
       "      <td>2.0</td>\n",
       "    </tr>\n",
       "    <tr>\n",
       "      <th>136</th>\n",
       "      <td>137</td>\n",
       "      <td>6.3</td>\n",
       "      <td>3.4</td>\n",
       "      <td>5.6</td>\n",
       "      <td>2.4</td>\n",
       "      <td>2.0</td>\n",
       "    </tr>\n",
       "    <tr>\n",
       "      <th>43</th>\n",
       "      <td>44</td>\n",
       "      <td>5.0</td>\n",
       "      <td>3.5</td>\n",
       "      <td>1.6</td>\n",
       "      <td>0.6</td>\n",
       "      <td>0.0</td>\n",
       "    </tr>\n",
       "    <tr>\n",
       "      <th>92</th>\n",
       "      <td>93</td>\n",
       "      <td>5.8</td>\n",
       "      <td>2.6</td>\n",
       "      <td>4.0</td>\n",
       "      <td>1.2</td>\n",
       "      <td>1.0</td>\n",
       "    </tr>\n",
       "    <tr>\n",
       "      <th>9</th>\n",
       "      <td>10</td>\n",
       "      <td>4.9</td>\n",
       "      <td>3.1</td>\n",
       "      <td>1.5</td>\n",
       "      <td>0.1</td>\n",
       "      <td>0.0</td>\n",
       "    </tr>\n",
       "  </tbody>\n",
       "</table>\n",
       "</div>"
      ],
      "text/plain": [
       "      Id  SepalLengthCm  SepalWidthCm  PetalLengthCm  PetalWidthCm  Species\n",
       "100  101            6.3           3.3            6.0           2.5      2.0\n",
       "136  137            6.3           3.4            5.6           2.4      2.0\n",
       "43    44            5.0           3.5            1.6           0.6      0.0\n",
       "92    93            5.8           2.6            4.0           1.2      1.0\n",
       "9     10            4.9           3.1            1.5           0.1      0.0"
      ]
     },
     "execution_count": 4,
     "metadata": {},
     "output_type": "execute_result"
    }
   ],
   "source": [
    "iris.sample(5)"
   ]
  },
  {
   "cell_type": "markdown",
   "id": "5d6f3d84",
   "metadata": {
    "papermill": {
     "duration": 0.006224,
     "end_time": "2023-04-26T08:01:52.434045",
     "exception": false,
     "start_time": "2023-04-26T08:01:52.427821",
     "status": "completed"
    },
    "tags": []
   },
   "source": [
    "# Applying Cross Validation"
   ]
  },
  {
   "cell_type": "code",
   "execution_count": 5,
   "id": "2a488abb",
   "metadata": {
    "execution": {
     "iopub.execute_input": "2023-04-26T08:01:52.448849Z",
     "iopub.status.busy": "2023-04-26T08:01:52.448439Z",
     "iopub.status.idle": "2023-04-26T08:01:52.460696Z",
     "shell.execute_reply": "2023-04-26T08:01:52.459336Z"
    },
    "papermill": {
     "duration": 0.0228,
     "end_time": "2023-04-26T08:01:52.463296",
     "exception": false,
     "start_time": "2023-04-26T08:01:52.440496",
     "status": "completed"
    },
    "tags": []
   },
   "outputs": [],
   "source": [
    "#making stratisfied kfold object\n",
    "kf = StratifiedKFold(n_splits=5, shuffle=True, random_state=10)\n",
    "\n",
    "for train_idx, test_idx in kf.split(X,y):\n",
    "    X_train, X_test, y_train, y_test = X.iloc[train_idx], X.iloc[test_idx], y.iloc[train_idx], y.iloc[test_idx]"
   ]
  },
  {
   "cell_type": "code",
   "execution_count": 6,
   "id": "e40218cf",
   "metadata": {
    "execution": {
     "iopub.execute_input": "2023-04-26T08:01:52.479417Z",
     "iopub.status.busy": "2023-04-26T08:01:52.478751Z",
     "iopub.status.idle": "2023-04-26T08:01:52.484447Z",
     "shell.execute_reply": "2023-04-26T08:01:52.483540Z"
    },
    "papermill": {
     "duration": 0.016497,
     "end_time": "2023-04-26T08:01:52.486724",
     "exception": false,
     "start_time": "2023-04-26T08:01:52.470227",
     "status": "completed"
    },
    "tags": []
   },
   "outputs": [],
   "source": [
    "# making a functions for various scores\n",
    "\n",
    "def get_score(model, X_train, X_test, y_train, y_test):\n",
    "    model.fit(X_train,y_train)\n",
    "    \n",
    "    y_test_pred = model.predict(X_test)\n",
    "   \n",
    "    test_accuracy = accuracy_score(y_test, y_test_pred) # Calculate Accuracy\n",
    "    \n",
    "    test_mcc = matthews_corrcoef(y_test, y_test_pred) # Calculate MCC\n",
    "    \n",
    "    test_f1 = f1_score(y_test, y_test_pred, average='weighted') # Calculate F1-score\n",
    "    \n",
    "    return test_accuracy, test_mcc, test_f1"
   ]
  },
  {
   "cell_type": "code",
   "execution_count": 7,
   "id": "f51d80fd",
   "metadata": {
    "execution": {
     "iopub.execute_input": "2023-04-26T08:01:52.501730Z",
     "iopub.status.busy": "2023-04-26T08:01:52.501141Z",
     "iopub.status.idle": "2023-04-26T08:01:52.626694Z",
     "shell.execute_reply": "2023-04-26T08:01:52.625227Z"
    },
    "papermill": {
     "duration": 0.136304,
     "end_time": "2023-04-26T08:01:52.629494",
     "exception": false,
     "start_time": "2023-04-26T08:01:52.493190",
     "status": "completed"
    },
    "tags": []
   },
   "outputs": [],
   "source": [
    "#intial code for giving us result of kfold cv\n",
    "\n",
    "test_ac_sc = []\n",
    "test_mcc_sc = []\n",
    "test_f1_sc = []\n",
    "\n",
    "scores = []\n",
    "\n",
    "for train_idx, test_idx in kf.split(X,y):\n",
    "    X_train, X_test, y_train, y_test = X.iloc[train_idx], X.iloc[test_idx], y.iloc[train_idx], y.iloc[test_idx]\n",
    "    scores.append(get_score(SVC(), X_train, X_test, y_train, y_test))\n",
    "    test_ac_sc.append(get_score(SVC(), X_train, X_test, y_train, y_test)[0])\n",
    "    test_mcc_sc.append(get_score(SVC(), X_train, X_test, y_train, y_test)[1])\n",
    "    test_f1_sc.append(get_score(SVC(), X_train, X_test, y_train, y_test)[2])\n",
    "    "
   ]
  },
  {
   "cell_type": "code",
   "execution_count": 8,
   "id": "de912587",
   "metadata": {
    "execution": {
     "iopub.execute_input": "2023-04-26T08:01:52.645489Z",
     "iopub.status.busy": "2023-04-26T08:01:52.645072Z",
     "iopub.status.idle": "2023-04-26T08:01:52.649657Z",
     "shell.execute_reply": "2023-04-26T08:01:52.648594Z"
    },
    "papermill": {
     "duration": 0.015915,
     "end_time": "2023-04-26T08:01:52.652051",
     "exception": false,
     "start_time": "2023-04-26T08:01:52.636136",
     "status": "completed"
    },
    "tags": []
   },
   "outputs": [],
   "source": [
    "#scores\n",
    "#test_ac_sc\n",
    "#test_mcc_sc\n",
    "#test_f1_sc"
   ]
  },
  {
   "cell_type": "code",
   "execution_count": 9,
   "id": "542ba6fb",
   "metadata": {
    "execution": {
     "iopub.execute_input": "2023-04-26T08:01:52.667749Z",
     "iopub.status.busy": "2023-04-26T08:01:52.666801Z",
     "iopub.status.idle": "2023-04-26T08:01:52.672184Z",
     "shell.execute_reply": "2023-04-26T08:01:52.671107Z"
    },
    "papermill": {
     "duration": 0.01588,
     "end_time": "2023-04-26T08:01:52.674610",
     "exception": false,
     "start_time": "2023-04-26T08:01:52.658730",
     "status": "completed"
    },
    "tags": []
   },
   "outputs": [],
   "source": [
    "#making a list of models so as to loop the get_score functions\n",
    "models = [SVC(), KNeighborsClassifier(), DecisionTreeClassifier(), MLPClassifier(),\n",
    "          RandomForestClassifier() , LogisticRegression(), GradientBoostingClassifier()]"
   ]
  },
  {
   "cell_type": "markdown",
   "id": "82804de1",
   "metadata": {
    "papermill": {
     "duration": 0.006507,
     "end_time": "2023-04-26T08:01:52.687896",
     "exception": false,
     "start_time": "2023-04-26T08:01:52.681389",
     "status": "completed"
    },
    "tags": []
   },
   "source": [
    "# Scores of all models present in the models list"
   ]
  },
  {
   "cell_type": "code",
   "execution_count": 10,
   "id": "1bcdd57f",
   "metadata": {
    "execution": {
     "iopub.execute_input": "2023-04-26T08:01:52.704299Z",
     "iopub.status.busy": "2023-04-26T08:01:52.703493Z",
     "iopub.status.idle": "2023-04-26T08:01:59.755925Z",
     "shell.execute_reply": "2023-04-26T08:01:59.754292Z"
    },
    "papermill": {
     "duration": 7.063513,
     "end_time": "2023-04-26T08:01:59.758541",
     "exception": false,
     "start_time": "2023-04-26T08:01:52.695028",
     "status": "completed"
    },
    "tags": []
   },
   "outputs": [
    {
     "name": "stdout",
     "output_type": "stream",
     "text": [
      "for model: SVC()\n",
      "accuracy score : 0.9933333333333334\n",
      "mcc score : 0.9903174605388407\n",
      "f1 score : 0.9933166248955722\n",
      "\n",
      "\n",
      "for model: KNeighborsClassifier()\n",
      "accuracy score : 1.0\n",
      "mcc score : 1.0\n",
      "f1 score : 1.0\n",
      "\n",
      "\n",
      "for model: DecisionTreeClassifier()\n",
      "accuracy score : 0.9933333333333334\n",
      "mcc score : 0.9903174605388407\n",
      "f1 score : 0.9933166248955722\n",
      "\n",
      "\n",
      "for model: MLPClassifier()\n",
      "accuracy score : 0.5666666666666667\n",
      "mcc score : 0.5245493734839588\n",
      "f1 score : 0.6990296739549668\n",
      "\n",
      "\n",
      "for model: RandomForestClassifier()\n",
      "accuracy score : 1.0\n",
      "mcc score : 1.0\n",
      "f1 score : 0.9933166248955722\n",
      "\n",
      "\n",
      "for model: LogisticRegression()\n",
      "accuracy score : 0.9866666666666667\n",
      "mcc score : 0.9812121349077867\n",
      "f1 score : 0.9865319865319865\n",
      "\n",
      "\n",
      "for model: GradientBoostingClassifier()\n",
      "accuracy score : 0.9933333333333334\n",
      "mcc score : 0.9903174605388407\n",
      "f1 score : 0.9933166248955722\n",
      "\n",
      "\n"
     ]
    }
   ],
   "source": [
    "\n",
    "for model in models:\n",
    "    test_ac_sc = []\n",
    "    test_mcc_sc = []\n",
    "    test_f1_sc = []\n",
    "\n",
    "    #scores = []\n",
    "\n",
    "    for train_idx, test_idx in kf.split(X,y):\n",
    "        X_train, X_test, y_train, y_test = X.iloc[train_idx], X.iloc[test_idx], y.iloc[train_idx], y.iloc[test_idx]\n",
    "        #scores.append(get_score(model, X_train, X_test, y_train, y_test))\n",
    "        test_ac_sc.append(get_score(model, X_train, X_test, y_train, y_test)[0])\n",
    "        test_mcc_sc.append(get_score(model, X_train, X_test, y_train, y_test)[1])\n",
    "        test_f1_sc.append(get_score(model, X_train, X_test, y_train, y_test)[2])\n",
    "\n",
    "\n",
    "    print(f'for model: {model}')\n",
    "    print('accuracy score :',np.mean(test_ac_sc))\n",
    "    print('mcc score :',np.mean(test_mcc_sc))\n",
    "    print('f1 score :',np.mean(test_f1_sc))\n",
    "    print('\\n')"
   ]
  },
  {
   "cell_type": "code",
   "execution_count": 11,
   "id": "adb0a3e0",
   "metadata": {
    "execution": {
     "iopub.execute_input": "2023-04-26T08:01:59.774359Z",
     "iopub.status.busy": "2023-04-26T08:01:59.773617Z",
     "iopub.status.idle": "2023-04-26T08:01:59.779303Z",
     "shell.execute_reply": "2023-04-26T08:01:59.778374Z"
    },
    "papermill": {
     "duration": 0.016115,
     "end_time": "2023-04-26T08:01:59.781599",
     "exception": false,
     "start_time": "2023-04-26T08:01:59.765484",
     "status": "completed"
    },
    "tags": []
   },
   "outputs": [],
   "source": [
    "estimators = [\n",
    "    ('lr', LogisticRegression()),\n",
    "    ('knn', KNeighborsClassifier()),\n",
    "    ('gbdt',GradientBoostingClassifier()),\n",
    "    ('MLP',MLPClassifier()),\n",
    "    ('DTC', DecisionTreeClassifier())\n",
    "    \n",
    "]"
   ]
  },
  {
   "cell_type": "code",
   "execution_count": 12,
   "id": "49de4b3a",
   "metadata": {
    "execution": {
     "iopub.execute_input": "2023-04-26T08:01:59.797301Z",
     "iopub.status.busy": "2023-04-26T08:01:59.796915Z",
     "iopub.status.idle": "2023-04-26T08:01:59.802539Z",
     "shell.execute_reply": "2023-04-26T08:01:59.801174Z"
    },
    "papermill": {
     "duration": 0.01616,
     "end_time": "2023-04-26T08:01:59.804867",
     "exception": false,
     "start_time": "2023-04-26T08:01:59.788707",
     "status": "completed"
    },
    "tags": []
   },
   "outputs": [],
   "source": [
    "clf = StackingClassifier(\n",
    "    estimators=estimators, \n",
    "    final_estimator=RandomForestClassifier(),\n",
    "    cv=10\n",
    ")"
   ]
  },
  {
   "cell_type": "markdown",
   "id": "17e2d7bd",
   "metadata": {
    "papermill": {
     "duration": 0.006361,
     "end_time": "2023-04-26T08:01:59.817990",
     "exception": false,
     "start_time": "2023-04-26T08:01:59.811629",
     "status": "completed"
    },
    "tags": []
   },
   "source": [
    "# Making simple train test split"
   ]
  },
  {
   "cell_type": "code",
   "execution_count": 13,
   "id": "9b858aff",
   "metadata": {
    "execution": {
     "iopub.execute_input": "2023-04-26T08:01:59.833084Z",
     "iopub.status.busy": "2023-04-26T08:01:59.832654Z",
     "iopub.status.idle": "2023-04-26T08:01:59.840982Z",
     "shell.execute_reply": "2023-04-26T08:01:59.839671Z"
    },
    "papermill": {
     "duration": 0.018869,
     "end_time": "2023-04-26T08:01:59.843511",
     "exception": false,
     "start_time": "2023-04-26T08:01:59.824642",
     "status": "completed"
    },
    "tags": []
   },
   "outputs": [],
   "source": [
    "X_train,X_test,y_train,y_test = train_test_split(X,y,test_size=0.2,random_state=8,stratify=y)"
   ]
  },
  {
   "cell_type": "code",
   "execution_count": 14,
   "id": "db5482c7",
   "metadata": {
    "execution": {
     "iopub.execute_input": "2023-04-26T08:01:59.858765Z",
     "iopub.status.busy": "2023-04-26T08:01:59.858364Z",
     "iopub.status.idle": "2023-04-26T08:01:59.863372Z",
     "shell.execute_reply": "2023-04-26T08:01:59.862160Z"
    },
    "papermill": {
     "duration": 0.015486,
     "end_time": "2023-04-26T08:01:59.865689",
     "exception": false,
     "start_time": "2023-04-26T08:01:59.850203",
     "status": "completed"
    },
    "tags": []
   },
   "outputs": [],
   "source": [
    "param_grid = {\n",
    "    'n_estimators': [25,50, 100, 150],\n",
    "    'max_depth': [2, 4, 6],\n",
    "    'min_samples_split': [2, 4, 6]\n",
    "}"
   ]
  },
  {
   "cell_type": "code",
   "execution_count": 15,
   "id": "417b0d00",
   "metadata": {
    "execution": {
     "iopub.execute_input": "2023-04-26T08:01:59.881117Z",
     "iopub.status.busy": "2023-04-26T08:01:59.880688Z",
     "iopub.status.idle": "2023-04-26T08:02:10.825556Z",
     "shell.execute_reply": "2023-04-26T08:02:10.824196Z"
    },
    "papermill": {
     "duration": 10.956254,
     "end_time": "2023-04-26T08:02:10.828857",
     "exception": false,
     "start_time": "2023-04-26T08:01:59.872603",
     "status": "completed"
    },
    "tags": []
   },
   "outputs": [
    {
     "data": {
      "text/plain": [
       "GridSearchCV(cv=5, estimator=RandomForestClassifier(), n_jobs=-1,\n",
       "             param_grid={'max_depth': [2, 4, 6], 'min_samples_split': [2, 4, 6],\n",
       "                         'n_estimators': [25, 50, 100, 150]})"
      ]
     },
     "execution_count": 15,
     "metadata": {},
     "output_type": "execute_result"
    }
   ],
   "source": [
    "grid_search = GridSearchCV(estimator=clf.final_estimator, param_grid=param_grid, cv=5, n_jobs=-1)\n",
    "grid_search.fit(X_train, y_train)"
   ]
  },
  {
   "cell_type": "code",
   "execution_count": 16,
   "id": "a39a00f5",
   "metadata": {
    "execution": {
     "iopub.execute_input": "2023-04-26T08:02:10.845592Z",
     "iopub.status.busy": "2023-04-26T08:02:10.844675Z",
     "iopub.status.idle": "2023-04-26T08:02:10.853133Z",
     "shell.execute_reply": "2023-04-26T08:02:10.851863Z"
    },
    "papermill": {
     "duration": 0.019228,
     "end_time": "2023-04-26T08:02:10.855227",
     "exception": false,
     "start_time": "2023-04-26T08:02:10.835999",
     "status": "completed"
    },
    "tags": []
   },
   "outputs": [
    {
     "data": {
      "text/plain": [
       "{'max_depth': 2, 'min_samples_split': 2, 'n_estimators': 25}"
      ]
     },
     "execution_count": 16,
     "metadata": {},
     "output_type": "execute_result"
    }
   ],
   "source": [
    "best_params = grid_search.best_params_\n",
    "best_params\n"
   ]
  },
  {
   "cell_type": "code",
   "execution_count": 17,
   "id": "ce25146e",
   "metadata": {
    "execution": {
     "iopub.execute_input": "2023-04-26T08:02:10.871863Z",
     "iopub.status.busy": "2023-04-26T08:02:10.870502Z",
     "iopub.status.idle": "2023-04-26T08:02:14.325132Z",
     "shell.execute_reply": "2023-04-26T08:02:14.323873Z"
    },
    "papermill": {
     "duration": 3.465701,
     "end_time": "2023-04-26T08:02:14.327981",
     "exception": false,
     "start_time": "2023-04-26T08:02:10.862280",
     "status": "completed"
    },
    "tags": []
   },
   "outputs": [
    {
     "data": {
      "text/plain": [
       "StackingClassifier(cv=10,\n",
       "                   estimators=[('lr', LogisticRegression()),\n",
       "                               ('knn', KNeighborsClassifier()),\n",
       "                               ('gbdt', GradientBoostingClassifier()),\n",
       "                               ('MLP', MLPClassifier()),\n",
       "                               ('DTC', DecisionTreeClassifier())],\n",
       "                   final_estimator=RandomForestClassifier(max_depth=2,\n",
       "                                                          n_estimators=25))"
      ]
     },
     "execution_count": 17,
     "metadata": {},
     "output_type": "execute_result"
    }
   ],
   "source": [
    "clf.final_estimator.set_params(**best_params)\n",
    "clf.fit(X_train, y_train)"
   ]
  },
  {
   "cell_type": "code",
   "execution_count": 18,
   "id": "a20e4f20",
   "metadata": {
    "execution": {
     "iopub.execute_input": "2023-04-26T08:02:14.344668Z",
     "iopub.status.busy": "2023-04-26T08:02:14.343677Z",
     "iopub.status.idle": "2023-04-26T08:02:14.365408Z",
     "shell.execute_reply": "2023-04-26T08:02:14.364049Z"
    },
    "papermill": {
     "duration": 0.032712,
     "end_time": "2023-04-26T08:02:14.367921",
     "exception": false,
     "start_time": "2023-04-26T08:02:14.335209",
     "status": "completed"
    },
    "tags": []
   },
   "outputs": [
    {
     "data": {
      "text/plain": [
       "1.0"
      ]
     },
     "execution_count": 18,
     "metadata": {},
     "output_type": "execute_result"
    }
   ],
   "source": [
    "y_pred = clf.predict(X_test)\n",
    "accuracy_score(y_test,y_pred)"
   ]
  },
  {
   "cell_type": "code",
   "execution_count": 19,
   "id": "05f3755c",
   "metadata": {
    "execution": {
     "iopub.execute_input": "2023-04-26T08:02:14.384724Z",
     "iopub.status.busy": "2023-04-26T08:02:14.384317Z",
     "iopub.status.idle": "2023-04-26T08:02:14.393718Z",
     "shell.execute_reply": "2023-04-26T08:02:14.392586Z"
    },
    "papermill": {
     "duration": 0.020745,
     "end_time": "2023-04-26T08:02:14.396174",
     "exception": false,
     "start_time": "2023-04-26T08:02:14.375429",
     "status": "completed"
    },
    "tags": []
   },
   "outputs": [
    {
     "data": {
      "text/plain": [
       "array([[10,  0,  0],\n",
       "       [ 0, 10,  0],\n",
       "       [ 0,  0, 10]])"
      ]
     },
     "execution_count": 19,
     "metadata": {},
     "output_type": "execute_result"
    }
   ],
   "source": [
    "confusion_matrix(y_test,y_pred)"
   ]
  },
  {
   "cell_type": "markdown",
   "id": "138a19b1",
   "metadata": {
    "papermill": {
     "duration": 0.007063,
     "end_time": "2023-04-26T08:02:14.410454",
     "exception": false,
     "start_time": "2023-04-26T08:02:14.403391",
     "status": "completed"
    },
    "tags": []
   },
   "source": [
    "\n",
    "I made this notebook to practise my skills making a stacking classifier on a small dataset before I use it on my 'titanic competition'\n",
    "notebook. I'm still a begineer in coding this was the best method I could come up with at the moment. A upvote/ like is highly appreciated if you like what I did here ...regards TM Kartikey"
   ]
  },
  {
   "cell_type": "code",
   "execution_count": null,
   "id": "7a596d6f",
   "metadata": {
    "papermill": {
     "duration": 0.006937,
     "end_time": "2023-04-26T08:02:14.424672",
     "exception": false,
     "start_time": "2023-04-26T08:02:14.417735",
     "status": "completed"
    },
    "tags": []
   },
   "outputs": [],
   "source": []
  }
 ],
 "metadata": {
  "kernelspec": {
   "display_name": "Python 3",
   "language": "python",
   "name": "python3"
  },
  "language_info": {
   "codemirror_mode": {
    "name": "ipython",
    "version": 3
   },
   "file_extension": ".py",
   "mimetype": "text/x-python",
   "name": "python",
   "nbconvert_exporter": "python",
   "pygments_lexer": "ipython3",
   "version": "3.7.12"
  },
  "papermill": {
   "default_parameters": {},
   "duration": 35.96452,
   "end_time": "2023-04-26T08:02:17.053588",
   "environment_variables": {},
   "exception": null,
   "input_path": "__notebook__.ipynb",
   "output_path": "__notebook__.ipynb",
   "parameters": {},
   "start_time": "2023-04-26T08:01:41.089068",
   "version": "2.4.0"
  }
 },
 "nbformat": 4,
 "nbformat_minor": 5
}
