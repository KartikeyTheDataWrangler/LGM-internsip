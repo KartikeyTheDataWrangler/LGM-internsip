{
 "cells": [
  {
   "cell_type": "code",
   "execution_count": null,
   "metadata": {
    "_cell_guid": "b1076dfc-b9ad-4769-8c92-a6c4dae69d19",
    "_uuid": "8f2839f25d086af736a60e9eeb907d3b93b6e0e5",
    "execution": {
     "iopub.execute_input": "2023-09-10T03:24:03.137262Z",
     "iopub.status.busy": "2023-09-10T03:24:03.136892Z",
     "iopub.status.idle": "2023-09-10T03:24:05.255747Z",
     "shell.execute_reply": "2023-09-10T03:24:05.254289Z",
     "shell.execute_reply.started": "2023-09-10T03:24:03.137230Z"
    }
   },
   "outputs": [],
   "source": [
    "\n",
    "\n",
    "import numpy as np \n",
    "import pandas as pd \n",
    "import os\n",
    "for dirname, _, filenames in os.walk('/kaggle/input'):\n",
    "    for filename in filenames:\n",
    "        print(os.path.join(dirname, filename))\n",
    "\n",
    "import matplotlib.pyplot as plt\n",
    "import seaborn as sns"
   ]
  },
  {
   "cell_type": "code",
   "execution_count": null,
   "metadata": {
    "execution": {
     "iopub.execute_input": "2023-09-10T03:24:05.258365Z",
     "iopub.status.busy": "2023-09-10T03:24:05.257892Z",
     "iopub.status.idle": "2023-09-10T03:24:06.080844Z",
     "shell.execute_reply": "2023-09-10T03:24:06.079601Z",
     "shell.execute_reply.started": "2023-09-10T03:24:05.258336Z"
    }
   },
   "outputs": [],
   "source": [
    "from sklearn.ensemble import RandomForestRegressor\n",
    "from sklearn.model_selection import train_test_split\n",
    "from sklearn.metrics import mean_squared_error,r2_score,confusion_matrix"
   ]
  },
  {
   "cell_type": "code",
   "execution_count": null,
   "metadata": {
    "execution": {
     "iopub.execute_input": "2023-09-10T03:24:06.082913Z",
     "iopub.status.busy": "2023-09-10T03:24:06.082501Z",
     "iopub.status.idle": "2023-09-10T03:24:06.126934Z",
     "shell.execute_reply": "2023-09-10T03:24:06.125998Z",
     "shell.execute_reply.started": "2023-09-10T03:24:06.082872Z"
    }
   },
   "outputs": [],
   "source": [
    "df = pd.read_csv('/kaggle/input/advertisingcsv/Advertising.csv')\n",
    "df.head(5)"
   ]
  },
  {
   "cell_type": "code",
   "execution_count": null,
   "metadata": {
    "execution": {
     "iopub.execute_input": "2023-09-10T03:24:06.132362Z",
     "iopub.status.busy": "2023-09-10T03:24:06.131486Z",
     "iopub.status.idle": "2023-09-10T03:24:06.165190Z",
     "shell.execute_reply": "2023-09-10T03:24:06.164091Z",
     "shell.execute_reply.started": "2023-09-10T03:24:06.132324Z"
    }
   },
   "outputs": [],
   "source": [
    "df.info(), df.shape    #no null values in our data 200 rows 5 columns"
   ]
  },
  {
   "cell_type": "code",
   "execution_count": null,
   "metadata": {
    "execution": {
     "iopub.execute_input": "2023-09-10T03:24:06.167654Z",
     "iopub.status.busy": "2023-09-10T03:24:06.166858Z",
     "iopub.status.idle": "2023-09-10T03:24:06.175154Z",
     "shell.execute_reply": "2023-09-10T03:24:06.173923Z",
     "shell.execute_reply.started": "2023-09-10T03:24:06.167612Z"
    }
   },
   "outputs": [],
   "source": [
    "df.rename(columns={'Unnamed: 0':'index'},inplace=True)"
   ]
  },
  {
   "cell_type": "code",
   "execution_count": null,
   "metadata": {
    "execution": {
     "iopub.execute_input": "2023-09-10T03:24:06.178249Z",
     "iopub.status.busy": "2023-09-10T03:24:06.177347Z",
     "iopub.status.idle": "2023-09-10T03:24:06.203040Z",
     "shell.execute_reply": "2023-09-10T03:24:06.201753Z",
     "shell.execute_reply.started": "2023-09-10T03:24:06.178211Z"
    }
   },
   "outputs": [],
   "source": [
    "df.set_index('index')  #index made"
   ]
  },
  {
   "cell_type": "code",
   "execution_count": null,
   "metadata": {
    "execution": {
     "iopub.execute_input": "2023-09-10T03:24:06.204828Z",
     "iopub.status.busy": "2023-09-10T03:24:06.204470Z",
     "iopub.status.idle": "2023-09-10T03:24:08.559844Z",
     "shell.execute_reply": "2023-09-10T03:24:08.558571Z",
     "shell.execute_reply.started": "2023-09-10T03:24:06.204783Z"
    }
   },
   "outputs": [],
   "source": [
    "fig, ax = plt.subplots(4, 2, figsize=(10, 10))\n",
    "sns.histplot(data=df['TV'],kde=True,ax=ax[0,0])\n",
    "sns.ecdfplot(data=df['TV'], label=\"CDF\", color=\"green\",ax=ax[0,1])\n",
    "sns.histplot(data=df['Radio'],kde=True,ax=ax[1,0])\n",
    "sns.ecdfplot(data=df['Radio'], label=\"CDF\", color=\"green\",ax=ax[1,1])\n",
    "sns.histplot(data=df['Newspaper'],kde=True,ax=ax[2,0])\n",
    "sns.ecdfplot(data=df['Newspaper'], label=\"CDF\", color=\"green\",ax=ax[2,1])\n",
    "sns.histplot(data=df['Sales'],kde=True,ax=ax[3,0])\n",
    "sns.ecdfplot(data=df['Sales'], label=\"CDF\", color=\"green\",ax=ax[3,1])\n",
    "plt.tight_layout()\n",
    "\n"
   ]
  },
  {
   "cell_type": "markdown",
   "metadata": {},
   "source": [
    "we have 2 uniform 1 normal and 1 a little skewed feature but its fairly simple data to deal with "
   ]
  },
  {
   "cell_type": "code",
   "execution_count": null,
   "metadata": {
    "execution": {
     "iopub.execute_input": "2023-09-10T03:24:08.562156Z",
     "iopub.status.busy": "2023-09-10T03:24:08.561634Z",
     "iopub.status.idle": "2023-09-10T03:24:08.575724Z",
     "shell.execute_reply": "2023-09-10T03:24:08.574403Z",
     "shell.execute_reply.started": "2023-09-10T03:24:08.562109Z"
    }
   },
   "outputs": [],
   "source": [
    "X = df[['TV', 'Radio', 'Newspaper']]\n",
    "y = df['Sales']\n",
    "X_train, X_test, y_train, y_test = train_test_split(X, y, test_size=0.2, random_state=42)"
   ]
  },
  {
   "cell_type": "code",
   "execution_count": null,
   "metadata": {
    "execution": {
     "iopub.execute_input": "2023-09-10T03:24:08.577573Z",
     "iopub.status.busy": "2023-09-10T03:24:08.577108Z",
     "iopub.status.idle": "2023-09-10T03:24:08.828016Z",
     "shell.execute_reply": "2023-09-10T03:24:08.826632Z",
     "shell.execute_reply.started": "2023-09-10T03:24:08.577535Z"
    }
   },
   "outputs": [],
   "source": [
    "model = RandomForestRegressor(n_estimators=100)\n",
    "model.fit(X_train, y_train)"
   ]
  },
  {
   "cell_type": "code",
   "execution_count": null,
   "metadata": {
    "execution": {
     "iopub.execute_input": "2023-09-10T03:24:08.833692Z",
     "iopub.status.busy": "2023-09-10T03:24:08.833311Z",
     "iopub.status.idle": "2023-09-10T03:24:08.848960Z",
     "shell.execute_reply": "2023-09-10T03:24:08.847276Z",
     "shell.execute_reply.started": "2023-09-10T03:24:08.833661Z"
    }
   },
   "outputs": [],
   "source": [
    "y_pred = model.predict(X_test)"
   ]
  },
  {
   "cell_type": "code",
   "execution_count": null,
   "metadata": {
    "execution": {
     "iopub.execute_input": "2023-09-10T03:24:08.850911Z",
     "iopub.status.busy": "2023-09-10T03:24:08.850527Z",
     "iopub.status.idle": "2023-09-10T03:24:08.861735Z",
     "shell.execute_reply": "2023-09-10T03:24:08.860373Z",
     "shell.execute_reply.started": "2023-09-10T03:24:08.850882Z"
    }
   },
   "outputs": [],
   "source": [
    "mse = mean_squared_error(y_test, y_pred)\n",
    "rmse = np.sqrt(mse)\n",
    "r2 = r2_score(y_test, y_pred)"
   ]
  },
  {
   "cell_type": "code",
   "execution_count": null,
   "metadata": {
    "execution": {
     "iopub.execute_input": "2023-09-10T03:24:08.864437Z",
     "iopub.status.busy": "2023-09-10T03:24:08.863433Z",
     "iopub.status.idle": "2023-09-10T03:24:08.876605Z",
     "shell.execute_reply": "2023-09-10T03:24:08.875362Z",
     "shell.execute_reply.started": "2023-09-10T03:24:08.864381Z"
    }
   },
   "outputs": [],
   "source": [
    "print(f\"Mean Squared Error: {mse:.2f}\")\n",
    "print(f\"Root Mean Squared Error: {rmse:.2f}\")\n",
    "print(f\"R-squared: {r2:.2f}\")"
   ]
  },
  {
   "cell_type": "markdown",
   "metadata": {
    "execution": {
     "iopub.execute_input": "2023-09-10T03:24:08.878952Z",
     "iopub.status.busy": "2023-09-10T03:24:08.878569Z",
     "iopub.status.idle": "2023-09-10T03:24:08.891993Z",
     "shell.execute_reply": "2023-09-10T03:24:08.889630Z",
     "shell.execute_reply.started": "2023-09-10T03:24:08.878908Z"
    }
   },
   "source": [
    "thank you everyone "
   ]
  },
  {
   "cell_type": "code",
   "execution_count": null,
   "metadata": {
    "execution": {
     "iopub.execute_input": "2023-09-10T03:24:36.746748Z",
     "iopub.status.busy": "2023-09-10T03:24:36.746217Z",
     "iopub.status.idle": "2023-09-10T03:24:39.097681Z",
     "shell.execute_reply": "2023-09-10T03:24:39.096437Z",
     "shell.execute_reply.started": "2023-09-10T03:24:36.746710Z"
    }
   },
   "outputs": [],
   "source": [
    "#another simplified code for above plot\n",
    "import matplotlib.pyplot as plt\n",
    "import seaborn as sns\n",
    "\n",
    "fig, axs = plt.subplots(nrows=4, ncols=2, figsize=(10, 10))\n",
    "\n",
    "for i, col in enumerate(['TV', 'Radio', 'Newspaper']):\n",
    "    sns.histplot(data=df[col], kde=True, ax=axs[i,0])\n",
    "    sns.ecdfplot(data=df[col], ax=axs[i,1], color='green')\n",
    "\n",
    "sns.histplot(data=df['Sales'], kde=True, ax=axs[-1,0]) \n",
    "sns.ecdfplot(data=df['Sales'], ax=axs[-1,1], color='green')\n",
    "\n",
    "plt.tight_layout()"
   ]
  },
  {
   "cell_type": "code",
   "execution_count": null,
   "metadata": {},
   "outputs": [],
   "source": []
  }
 ],
 "metadata": {
  "kernelspec": {
   "display_name": "Python 3 (ipykernel)",
   "language": "python",
   "name": "python3"
  },
  "language_info": {
   "codemirror_mode": {
    "name": "ipython",
    "version": 3
   },
   "file_extension": ".py",
   "mimetype": "text/x-python",
   "name": "python",
   "nbconvert_exporter": "python",
   "pygments_lexer": "ipython3",
   "version": "3.10.8"
  }
 },
 "nbformat": 4,
 "nbformat_minor": 4
}
