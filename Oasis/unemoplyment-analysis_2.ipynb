{
 "cells": [
  {
   "cell_type": "code",
   "execution_count": null,
   "metadata": {
    "execution": {
     "iopub.execute_input": "2023-09-13T01:25:14.099549Z",
     "iopub.status.busy": "2023-09-13T01:25:14.099155Z",
     "iopub.status.idle": "2023-09-13T01:25:16.154975Z",
     "shell.execute_reply": "2023-09-13T01:25:16.154100Z",
     "shell.execute_reply.started": "2023-09-13T01:25:14.099518Z"
    }
   },
   "outputs": [],
   "source": [
    "import pandas as pd\n",
    "import numpy as np\n",
    "import seaborn as sns\n",
    "import matplotlib.pyplot as plt"
   ]
  },
  {
   "cell_type": "code",
   "execution_count": null,
   "metadata": {
    "execution": {
     "iopub.execute_input": "2023-09-13T01:25:16.158129Z",
     "iopub.status.busy": "2023-09-13T01:25:16.156965Z",
     "iopub.status.idle": "2023-09-13T01:25:16.183585Z",
     "shell.execute_reply": "2023-09-13T01:25:16.182663Z",
     "shell.execute_reply.started": "2023-09-13T01:25:16.158088Z"
    }
   },
   "outputs": [],
   "source": [
    "df = pd.read_csv('/kaggle/input/unemployment-in-india/Unemployment_Rate_upto_11_2020.csv')"
   ]
  },
  {
   "cell_type": "code",
   "execution_count": null,
   "metadata": {
    "execution": {
     "iopub.execute_input": "2023-09-13T01:25:16.185627Z",
     "iopub.status.busy": "2023-09-13T01:25:16.184682Z",
     "iopub.status.idle": "2023-09-13T01:25:16.213245Z",
     "shell.execute_reply": "2023-09-13T01:25:16.212047Z",
     "shell.execute_reply.started": "2023-09-13T01:25:16.185596Z"
    }
   },
   "outputs": [],
   "source": [
    "df.head()"
   ]
  },
  {
   "cell_type": "code",
   "execution_count": null,
   "metadata": {
    "execution": {
     "iopub.execute_input": "2023-09-13T01:25:16.216583Z",
     "iopub.status.busy": "2023-09-13T01:25:16.216256Z",
     "iopub.status.idle": "2023-09-13T01:25:16.221048Z",
     "shell.execute_reply": "2023-09-13T01:25:16.220158Z",
     "shell.execute_reply.started": "2023-09-13T01:25:16.216554Z"
    }
   },
   "outputs": [],
   "source": [
    "#getting a overview of our data "
   ]
  },
  {
   "cell_type": "code",
   "execution_count": null,
   "metadata": {
    "execution": {
     "iopub.execute_input": "2023-09-13T01:25:16.222758Z",
     "iopub.status.busy": "2023-09-13T01:25:16.222266Z",
     "iopub.status.idle": "2023-09-13T01:25:16.260343Z",
     "shell.execute_reply": "2023-09-13T01:25:16.259271Z",
     "shell.execute_reply.started": "2023-09-13T01:25:16.222730Z"
    }
   },
   "outputs": [],
   "source": [
    "df.info()"
   ]
  },
  {
   "cell_type": "code",
   "execution_count": null,
   "metadata": {
    "execution": {
     "iopub.execute_input": "2023-09-13T01:25:16.262158Z",
     "iopub.status.busy": "2023-09-13T01:25:16.261619Z",
     "iopub.status.idle": "2023-09-13T01:25:16.295880Z",
     "shell.execute_reply": "2023-09-13T01:25:16.294796Z",
     "shell.execute_reply.started": "2023-09-13T01:25:16.262128Z"
    }
   },
   "outputs": [],
   "source": [
    "df.describe().T"
   ]
  },
  {
   "cell_type": "markdown",
   "metadata": {
    "execution": {
     "iopub.execute_input": "2023-09-12T16:33:13.199346Z",
     "iopub.status.busy": "2023-09-12T16:33:13.198897Z",
     "iopub.status.idle": "2023-09-12T16:33:13.205769Z",
     "shell.execute_reply": "2023-09-12T16:33:13.204180Z",
     "shell.execute_reply.started": "2023-09-12T16:33:13.199308Z"
    }
   },
   "source": [
    "lets convert the features into appropriate format"
   ]
  },
  {
   "cell_type": "code",
   "execution_count": null,
   "metadata": {
    "execution": {
     "iopub.execute_input": "2023-09-13T01:25:16.298168Z",
     "iopub.status.busy": "2023-09-13T01:25:16.297595Z",
     "iopub.status.idle": "2023-09-13T01:25:16.315500Z",
     "shell.execute_reply": "2023-09-13T01:25:16.313966Z",
     "shell.execute_reply.started": "2023-09-13T01:25:16.298137Z"
    }
   },
   "outputs": [],
   "source": [
    "df[' Date'] = pd.to_datetime(df[' Date'], dayfirst=True)\n",
    "df[' Frequency'] = df[' Frequency'].astype('category')\n",
    "df['Region.1'] = df['Region.1'].astype('category')"
   ]
  },
  {
   "cell_type": "code",
   "execution_count": null,
   "metadata": {
    "execution": {
     "iopub.execute_input": "2023-09-13T01:25:16.319670Z",
     "iopub.status.busy": "2023-09-13T01:25:16.318435Z",
     "iopub.status.idle": "2023-09-13T01:25:16.331686Z",
     "shell.execute_reply": "2023-09-13T01:25:16.330083Z",
     "shell.execute_reply.started": "2023-09-13T01:25:16.319612Z"
    }
   },
   "outputs": [],
   "source": [
    "df.columns = ['region', 'date', 'freq', 'unemploymnt rate %','estimated employed','labour participation %',\n",
    "             'region1','long','lat']\n",
    "df.drop('region1', axis=1, inplace=True)"
   ]
  },
  {
   "cell_type": "code",
   "execution_count": null,
   "metadata": {
    "execution": {
     "iopub.execute_input": "2023-09-13T01:25:16.343730Z",
     "iopub.status.busy": "2023-09-13T01:25:16.339551Z",
     "iopub.status.idle": "2023-09-13T01:25:16.357398Z",
     "shell.execute_reply": "2023-09-13T01:25:16.355804Z",
     "shell.execute_reply.started": "2023-09-13T01:25:16.343670Z"
    }
   },
   "outputs": [],
   "source": [
    "df['month'] = df['date'].dt.month"
   ]
  },
  {
   "cell_type": "code",
   "execution_count": null,
   "metadata": {
    "execution": {
     "iopub.execute_input": "2023-09-13T01:25:16.374347Z",
     "iopub.status.busy": "2023-09-13T01:25:16.369488Z",
     "iopub.status.idle": "2023-09-13T01:25:16.389618Z",
     "shell.execute_reply": "2023-09-13T01:25:16.388149Z",
     "shell.execute_reply.started": "2023-09-13T01:25:16.374260Z"
    }
   },
   "outputs": [],
   "source": [
    "df['month']=df['month'].map({1:'jan',2:'feb',3:'mar',4:'apr',5:'may',6:'jun',7:'july',\n",
    "                 8:'aug',9:'sep',10:'oct',11:'nov',12:'dec'})"
   ]
  },
  {
   "cell_type": "code",
   "execution_count": null,
   "metadata": {
    "execution": {
     "iopub.execute_input": "2023-09-13T01:25:16.401436Z",
     "iopub.status.busy": "2023-09-13T01:25:16.397283Z",
     "iopub.status.idle": "2023-09-13T01:25:16.439115Z",
     "shell.execute_reply": "2023-09-13T01:25:16.438310Z",
     "shell.execute_reply.started": "2023-09-13T01:25:16.401366Z"
    }
   },
   "outputs": [],
   "source": [
    "df.head()"
   ]
  },
  {
   "cell_type": "code",
   "execution_count": null,
   "metadata": {
    "execution": {
     "iopub.execute_input": "2023-09-13T01:25:16.443387Z",
     "iopub.status.busy": "2023-09-13T01:25:16.442717Z",
     "iopub.status.idle": "2023-09-13T01:25:16.469021Z",
     "shell.execute_reply": "2023-09-13T01:25:16.467738Z",
     "shell.execute_reply.started": "2023-09-13T01:25:16.443356Z"
    }
   },
   "outputs": [],
   "source": [
    "#lets see regionwise wise unemployment \n",
    "\n",
    "df.groupby('region')[['unemploymnt rate %','estimated employed','labour participation %']].mean()"
   ]
  },
  {
   "cell_type": "code",
   "execution_count": null,
   "metadata": {
    "execution": {
     "iopub.execute_input": "2023-09-13T01:27:52.339055Z",
     "iopub.status.busy": "2023-09-13T01:27:52.338595Z",
     "iopub.status.idle": "2023-09-13T01:27:52.355981Z",
     "shell.execute_reply": "2023-09-13T01:27:52.355118Z",
     "shell.execute_reply.started": "2023-09-13T01:27:52.339021Z"
    }
   },
   "outputs": [],
   "source": [
    "#states with lowest labour participation\n",
    "df.groupby('region')[['unemploymnt rate %','estimated employed','labour participation %']].mean().sort_values('labour participation %').head(5)"
   ]
  },
  {
   "cell_type": "code",
   "execution_count": null,
   "metadata": {
    "execution": {
     "iopub.execute_input": "2023-09-13T01:25:16.489569Z",
     "iopub.status.busy": "2023-09-13T01:25:16.488993Z",
     "iopub.status.idle": "2023-09-13T01:25:16.496782Z",
     "shell.execute_reply": "2023-09-13T01:25:16.495804Z",
     "shell.execute_reply.started": "2023-09-13T01:25:16.489539Z"
    }
   },
   "outputs": [],
   "source": [
    "#lets plot a grpah of these\n",
    "X = df.groupby('region')[['unemploymnt rate %','estimated employed','labour participation %']].mean()\n",
    "X = pd.DataFrame(X)"
   ]
  },
  {
   "cell_type": "code",
   "execution_count": null,
   "metadata": {
    "execution": {
     "iopub.execute_input": "2023-09-13T01:25:16.498639Z",
     "iopub.status.busy": "2023-09-13T01:25:16.498311Z",
     "iopub.status.idle": "2023-09-13T01:25:16.895440Z",
     "shell.execute_reply": "2023-09-13T01:25:16.894320Z",
     "shell.execute_reply.started": "2023-09-13T01:25:16.498611Z"
    }
   },
   "outputs": [],
   "source": [
    "X.plot()"
   ]
  },
  {
   "cell_type": "code",
   "execution_count": null,
   "metadata": {
    "execution": {
     "iopub.execute_input": "2023-09-13T01:25:16.897196Z",
     "iopub.status.busy": "2023-09-13T01:25:16.896772Z",
     "iopub.status.idle": "2023-09-13T01:25:20.124812Z",
     "shell.execute_reply": "2023-09-13T01:25:20.123723Z",
     "shell.execute_reply.started": "2023-09-13T01:25:16.897163Z"
    }
   },
   "outputs": [],
   "source": [
    "sns.pairplot(X)"
   ]
  },
  {
   "cell_type": "code",
   "execution_count": null,
   "metadata": {},
   "outputs": [],
   "source": []
  }
 ],
 "metadata": {
  "kernelspec": {
   "display_name": "Python 3 (ipykernel)",
   "language": "python",
   "name": "python3"
  },
  "language_info": {
   "codemirror_mode": {
    "name": "ipython",
    "version": 3
   },
   "file_extension": ".py",
   "mimetype": "text/x-python",
   "name": "python",
   "nbconvert_exporter": "python",
   "pygments_lexer": "ipython3",
   "version": "3.10.8"
  }
 },
 "nbformat": 4,
 "nbformat_minor": 4
}
