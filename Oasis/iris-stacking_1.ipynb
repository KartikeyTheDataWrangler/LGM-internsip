{
 "cells": [
  {
   "cell_type": "markdown",
   "metadata": {},
   "source": [
    "# Importing required Libraries"
   ]
  },
  {
   "cell_type": "code",
   "execution_count": null,
   "metadata": {
    "execution": {
     "iopub.execute_input": "2023-04-25T18:37:09.261279Z",
     "iopub.status.busy": "2023-04-25T18:37:09.260827Z",
     "iopub.status.idle": "2023-04-25T18:37:09.269501Z",
     "shell.execute_reply": "2023-04-25T18:37:09.268360Z",
     "shell.execute_reply.started": "2023-04-25T18:37:09.261236Z"
    }
   },
   "outputs": [],
   "source": [
    "import numpy as np\n",
    "import pandas as pd\n",
    "from sklearn.preprocessing import OrdinalEncoder\n",
    "from sklearn.metrics import accuracy_score\n",
    "from sklearn.metrics import matthews_corrcoef\n",
    "from sklearn.metrics import f1_score\n",
    "from sklearn.metrics import confusion_matrix\n",
    "from sklearn.linear_model import LogisticRegression\n",
    "from sklearn.neighbors import KNeighborsClassifier\n",
    "from sklearn.svm import SVC\n",
    "from sklearn.tree import DecisionTreeClassifier\n",
    "from sklearn.ensemble import RandomForestClassifier\n",
    "from sklearn.neural_network import MLPClassifier\n",
    "from sklearn.ensemble import GradientBoostingClassifier\n",
    "from sklearn.base import clone\n",
    "from sklearn.ensemble import StackingClassifier\n",
    "from sklearn.model_selection import GridSearchCV\n",
    "\n",
    "from sklearn.model_selection import StratifiedKFold\n",
    "from sklearn.model_selection import train_test_split\n",
    "\n",
    "import warnings\n",
    "warnings.filterwarnings('ignore')\n"
   ]
  },
  {
   "cell_type": "markdown",
   "metadata": {
    "execution": {
     "iopub.execute_input": "2023-04-25T08:10:10.793084Z",
     "iopub.status.busy": "2023-04-25T08:10:10.792660Z",
     "iopub.status.idle": "2023-04-25T08:10:10.798010Z",
     "shell.execute_reply": "2023-04-25T08:10:10.797017Z",
     "shell.execute_reply.started": "2023-04-25T08:10:10.793048Z"
    }
   },
   "source": [
    "# Feature selection and Modelling"
   ]
  },
  {
   "cell_type": "code",
   "execution_count": null,
   "metadata": {
    "execution": {
     "iopub.execute_input": "2023-04-25T18:37:45.767325Z",
     "iopub.status.busy": "2023-04-25T18:37:45.766097Z",
     "iopub.status.idle": "2023-04-25T18:37:45.779320Z",
     "shell.execute_reply": "2023-04-25T18:37:45.778065Z",
     "shell.execute_reply.started": "2023-04-25T18:37:45.767282Z"
    }
   },
   "outputs": [],
   "source": [
    "#reading the data \n",
    "iris = pd.read_csv(\"/kaggle/input/iris/Iris.csv\")\n",
    "iris.shape"
   ]
  },
  {
   "cell_type": "code",
   "execution_count": null,
   "metadata": {
    "execution": {
     "iopub.execute_input": "2023-04-25T18:37:09.388273Z",
     "iopub.status.busy": "2023-04-25T18:37:09.387586Z",
     "iopub.status.idle": "2023-04-25T18:37:09.395997Z",
     "shell.execute_reply": "2023-04-25T18:37:09.395201Z",
     "shell.execute_reply.started": "2023-04-25T18:37:09.388219Z"
    }
   },
   "outputs": [],
   "source": [
    "X = iris.drop(\"Species\",axis=1)\n",
    "\n",
    "# encoding 'Species' columns\n",
    "\n",
    "oe = OrdinalEncoder()\n",
    "\n",
    "iris['Species'] = oe.fit_transform(iris['Species'].values.reshape(-1,1))\n",
    "y = iris['Species']\n"
   ]
  },
  {
   "cell_type": "code",
   "execution_count": null,
   "metadata": {
    "execution": {
     "iopub.execute_input": "2023-04-25T18:37:09.451259Z",
     "iopub.status.busy": "2023-04-25T18:37:09.450815Z",
     "iopub.status.idle": "2023-04-25T18:37:09.467507Z",
     "shell.execute_reply": "2023-04-25T18:37:09.466667Z",
     "shell.execute_reply.started": "2023-04-25T18:37:09.451218Z"
    }
   },
   "outputs": [],
   "source": [
    "iris.sample(5)"
   ]
  },
  {
   "cell_type": "markdown",
   "metadata": {},
   "source": [
    "# Applying Cross Validation"
   ]
  },
  {
   "cell_type": "code",
   "execution_count": null,
   "metadata": {
    "execution": {
     "iopub.execute_input": "2023-04-25T18:37:09.511840Z",
     "iopub.status.busy": "2023-04-25T18:37:09.511427Z",
     "iopub.status.idle": "2023-04-25T18:37:09.523698Z",
     "shell.execute_reply": "2023-04-25T18:37:09.522533Z",
     "shell.execute_reply.started": "2023-04-25T18:37:09.511802Z"
    }
   },
   "outputs": [],
   "source": [
    "#making stratisfied kfold object\n",
    "kf = StratifiedKFold(n_splits=5, shuffle=True, random_state=10)\n",
    "\n",
    "for train_idx, test_idx in kf.split(X,y):\n",
    "    X_train, X_test, y_train, y_test = X.iloc[train_idx], X.iloc[test_idx], y.iloc[train_idx], y.iloc[test_idx]"
   ]
  },
  {
   "cell_type": "code",
   "execution_count": null,
   "metadata": {
    "execution": {
     "iopub.execute_input": "2023-04-25T18:37:09.572111Z",
     "iopub.status.busy": "2023-04-25T18:37:09.571728Z",
     "iopub.status.idle": "2023-04-25T18:37:09.578354Z",
     "shell.execute_reply": "2023-04-25T18:37:09.576977Z",
     "shell.execute_reply.started": "2023-04-25T18:37:09.572077Z"
    }
   },
   "outputs": [],
   "source": [
    "# making a functions for various scores\n",
    "\n",
    "def get_score(model, X_train, X_test, y_train, y_test):\n",
    "    model.fit(X_train,y_train)\n",
    "    \n",
    "    y_test_pred = model.predict(X_test)\n",
    "   \n",
    "    test_accuracy = accuracy_score(y_test, y_test_pred) # Calculate Accuracy\n",
    "    \n",
    "    test_mcc = matthews_corrcoef(y_test, y_test_pred) # Calculate MCC\n",
    "    \n",
    "    test_f1 = f1_score(y_test, y_test_pred, average='weighted') # Calculate F1-score\n",
    "    \n",
    "    return test_accuracy, test_mcc, test_f1"
   ]
  },
  {
   "cell_type": "code",
   "execution_count": null,
   "metadata": {
    "execution": {
     "iopub.execute_input": "2023-04-25T18:37:09.743261Z",
     "iopub.status.busy": "2023-04-25T18:37:09.742812Z",
     "iopub.status.idle": "2023-04-25T18:37:09.867746Z",
     "shell.execute_reply": "2023-04-25T18:37:09.866753Z",
     "shell.execute_reply.started": "2023-04-25T18:37:09.743222Z"
    }
   },
   "outputs": [],
   "source": [
    "#intial code for giving us result of kfold cv\n",
    "\n",
    "test_ac_sc = []\n",
    "test_mcc_sc = []\n",
    "test_f1_sc = []\n",
    "\n",
    "scores = []\n",
    "\n",
    "for train_idx, test_idx in kf.split(X,y):\n",
    "    X_train, X_test, y_train, y_test = X.iloc[train_idx], X.iloc[test_idx], y.iloc[train_idx], y.iloc[test_idx]\n",
    "    scores.append(get_score(SVC(), X_train, X_test, y_train, y_test))\n",
    "    test_ac_sc.append(get_score(SVC(), X_train, X_test, y_train, y_test)[0])\n",
    "    test_mcc_sc.append(get_score(SVC(), X_train, X_test, y_train, y_test)[1])\n",
    "    test_f1_sc.append(get_score(SVC(), X_train, X_test, y_train, y_test)[2])\n",
    "    "
   ]
  },
  {
   "cell_type": "code",
   "execution_count": null,
   "metadata": {
    "execution": {
     "iopub.execute_input": "2023-04-25T18:37:09.869878Z",
     "iopub.status.busy": "2023-04-25T18:37:09.869541Z",
     "iopub.status.idle": "2023-04-25T18:37:09.874606Z",
     "shell.execute_reply": "2023-04-25T18:37:09.873431Z",
     "shell.execute_reply.started": "2023-04-25T18:37:09.869846Z"
    }
   },
   "outputs": [],
   "source": [
    "#scores\n",
    "#test_ac_sc\n",
    "#test_mcc_sc\n",
    "#test_f1_sc"
   ]
  },
  {
   "cell_type": "code",
   "execution_count": null,
   "metadata": {
    "execution": {
     "iopub.execute_input": "2023-04-25T18:37:09.876951Z",
     "iopub.status.busy": "2023-04-25T18:37:09.876505Z",
     "iopub.status.idle": "2023-04-25T18:37:09.886012Z",
     "shell.execute_reply": "2023-04-25T18:37:09.884939Z",
     "shell.execute_reply.started": "2023-04-25T18:37:09.876916Z"
    }
   },
   "outputs": [],
   "source": [
    "#making a list of models so as to loop the get_score functions\n",
    "models = [SVC(), KNeighborsClassifier(), DecisionTreeClassifier(), MLPClassifier(),\n",
    "          RandomForestClassifier() , LogisticRegression(), GradientBoostingClassifier()]"
   ]
  },
  {
   "cell_type": "markdown",
   "metadata": {},
   "source": [
    "# Scores of all models present in the models list"
   ]
  },
  {
   "cell_type": "code",
   "execution_count": null,
   "metadata": {
    "execution": {
     "iopub.execute_input": "2023-04-25T18:37:09.888447Z",
     "iopub.status.busy": "2023-04-25T18:37:09.888085Z",
     "iopub.status.idle": "2023-04-25T18:37:16.532369Z",
     "shell.execute_reply": "2023-04-25T18:37:16.530961Z",
     "shell.execute_reply.started": "2023-04-25T18:37:09.888415Z"
    }
   },
   "outputs": [],
   "source": [
    "\n",
    "for model in models:\n",
    "    test_ac_sc = []\n",
    "    test_mcc_sc = []\n",
    "    test_f1_sc = []\n",
    "\n",
    "    #scores = []\n",
    "\n",
    "    for train_idx, test_idx in kf.split(X,y):\n",
    "        X_train, X_test, y_train, y_test = X.iloc[train_idx], X.iloc[test_idx], y.iloc[train_idx], y.iloc[test_idx]\n",
    "        #scores.append(get_score(model, X_train, X_test, y_train, y_test))\n",
    "        test_ac_sc.append(get_score(model, X_train, X_test, y_train, y_test)[0])\n",
    "        test_mcc_sc.append(get_score(model, X_train, X_test, y_train, y_test)[1])\n",
    "        test_f1_sc.append(get_score(model, X_train, X_test, y_train, y_test)[2])\n",
    "\n",
    "\n",
    "    print(f'for model: {model}')\n",
    "    print('accuracy score :',np.mean(test_ac_sc))\n",
    "    print('mcc score :',np.mean(test_mcc_sc))\n",
    "    print('f1 score :',np.mean(test_f1_sc))\n",
    "    print('\\n')"
   ]
  },
  {
   "cell_type": "code",
   "execution_count": null,
   "metadata": {
    "execution": {
     "iopub.execute_input": "2023-04-25T18:37:16.534679Z",
     "iopub.status.busy": "2023-04-25T18:37:16.534250Z",
     "iopub.status.idle": "2023-04-25T18:37:16.540579Z",
     "shell.execute_reply": "2023-04-25T18:37:16.539344Z",
     "shell.execute_reply.started": "2023-04-25T18:37:16.534636Z"
    }
   },
   "outputs": [],
   "source": [
    "estimators = [\n",
    "    ('lr', LogisticRegression()),\n",
    "    ('knn', KNeighborsClassifier()),\n",
    "    ('gbdt',GradientBoostingClassifier()),\n",
    "    ('MLP',MLPClassifier()),\n",
    "    ('DTC', DecisionTreeClassifier())\n",
    "    \n",
    "]"
   ]
  },
  {
   "cell_type": "code",
   "execution_count": null,
   "metadata": {
    "execution": {
     "iopub.execute_input": "2023-04-25T18:37:16.543018Z",
     "iopub.status.busy": "2023-04-25T18:37:16.542348Z",
     "iopub.status.idle": "2023-04-25T18:37:16.551894Z",
     "shell.execute_reply": "2023-04-25T18:37:16.550920Z",
     "shell.execute_reply.started": "2023-04-25T18:37:16.542969Z"
    }
   },
   "outputs": [],
   "source": [
    "clf = StackingClassifier(\n",
    "    estimators=estimators, \n",
    "    final_estimator=RandomForestClassifier(),\n",
    "    cv=10\n",
    ")"
   ]
  },
  {
   "cell_type": "markdown",
   "metadata": {},
   "source": [
    "# Making simple train test split"
   ]
  },
  {
   "cell_type": "code",
   "execution_count": null,
   "metadata": {
    "execution": {
     "iopub.execute_input": "2023-04-25T18:37:16.555857Z",
     "iopub.status.busy": "2023-04-25T18:37:16.555029Z",
     "iopub.status.idle": "2023-04-25T18:37:16.564380Z",
     "shell.execute_reply": "2023-04-25T18:37:16.563471Z",
     "shell.execute_reply.started": "2023-04-25T18:37:16.555819Z"
    }
   },
   "outputs": [],
   "source": [
    "X_train,X_test,y_train,y_test = train_test_split(X,y,test_size=0.2,random_state=8,stratify=y)"
   ]
  },
  {
   "cell_type": "code",
   "execution_count": null,
   "metadata": {
    "execution": {
     "iopub.execute_input": "2023-04-25T18:37:16.566188Z",
     "iopub.status.busy": "2023-04-25T18:37:16.565853Z",
     "iopub.status.idle": "2023-04-25T18:37:16.574017Z",
     "shell.execute_reply": "2023-04-25T18:37:16.573065Z",
     "shell.execute_reply.started": "2023-04-25T18:37:16.566157Z"
    }
   },
   "outputs": [],
   "source": [
    "param_grid = {\n",
    "    'n_estimators': [25,50, 100, 150],\n",
    "    'max_depth': [2, 4, 6],\n",
    "    'min_samples_split': [2, 4, 6]\n",
    "}"
   ]
  },
  {
   "cell_type": "code",
   "execution_count": null,
   "metadata": {
    "execution": {
     "iopub.execute_input": "2023-04-25T18:37:16.575911Z",
     "iopub.status.busy": "2023-04-25T18:37:16.575554Z",
     "iopub.status.idle": "2023-04-25T18:37:25.628438Z",
     "shell.execute_reply": "2023-04-25T18:37:25.627448Z",
     "shell.execute_reply.started": "2023-04-25T18:37:16.575878Z"
    }
   },
   "outputs": [],
   "source": [
    "grid_search = GridSearchCV(estimator=clf.final_estimator, param_grid=param_grid, cv=5, n_jobs=-1)\n",
    "grid_search.fit(X_train, y_train)"
   ]
  },
  {
   "cell_type": "code",
   "execution_count": null,
   "metadata": {
    "execution": {
     "iopub.execute_input": "2023-04-25T18:37:25.631486Z",
     "iopub.status.busy": "2023-04-25T18:37:25.629599Z",
     "iopub.status.idle": "2023-04-25T18:37:25.639802Z",
     "shell.execute_reply": "2023-04-25T18:37:25.638480Z",
     "shell.execute_reply.started": "2023-04-25T18:37:25.631435Z"
    }
   },
   "outputs": [],
   "source": [
    "best_params = grid_search.best_params_\n",
    "best_params\n"
   ]
  },
  {
   "cell_type": "code",
   "execution_count": null,
   "metadata": {
    "execution": {
     "iopub.execute_input": "2023-04-25T18:37:25.642387Z",
     "iopub.status.busy": "2023-04-25T18:37:25.641561Z",
     "iopub.status.idle": "2023-04-25T18:37:28.822496Z",
     "shell.execute_reply": "2023-04-25T18:37:28.821311Z",
     "shell.execute_reply.started": "2023-04-25T18:37:25.642339Z"
    }
   },
   "outputs": [],
   "source": [
    "clf.final_estimator.set_params(**best_params)\n",
    "clf.fit(X_train, y_train)"
   ]
  },
  {
   "cell_type": "code",
   "execution_count": null,
   "metadata": {
    "execution": {
     "iopub.execute_input": "2023-04-25T18:37:28.824314Z",
     "iopub.status.busy": "2023-04-25T18:37:28.823898Z",
     "iopub.status.idle": "2023-04-25T18:37:28.847385Z",
     "shell.execute_reply": "2023-04-25T18:37:28.846085Z",
     "shell.execute_reply.started": "2023-04-25T18:37:28.824277Z"
    }
   },
   "outputs": [],
   "source": [
    "y_pred = clf.predict(X_test)\n",
    "accuracy_score(y_test,y_pred)"
   ]
  },
  {
   "cell_type": "code",
   "execution_count": null,
   "metadata": {
    "execution": {
     "iopub.execute_input": "2023-04-25T18:37:28.851289Z",
     "iopub.status.busy": "2023-04-25T18:37:28.850786Z",
     "iopub.status.idle": "2023-04-25T18:37:28.861408Z",
     "shell.execute_reply": "2023-04-25T18:37:28.860209Z",
     "shell.execute_reply.started": "2023-04-25T18:37:28.851238Z"
    }
   },
   "outputs": [],
   "source": [
    "confusion_matrix(y_test,y_pred)"
   ]
  },
  {
   "cell_type": "markdown",
   "metadata": {},
   "source": [
    "\n",
    "I made this notebook to practise my skills making a stacking classifier on a small dataset before I use it on my 'titanic competition'\n",
    "notebook. I'm still a begineer in coding this was the best method I could come up with at the moment. A upvote/ like is highly appreciated if you like what I did here ...regards TM Kartikey"
   ]
  },
  {
   "cell_type": "code",
   "execution_count": null,
   "metadata": {},
   "outputs": [],
   "source": []
  }
 ],
 "metadata": {
  "kernelspec": {
   "display_name": "Python 3 (ipykernel)",
   "language": "python",
   "name": "python3"
  },
  "language_info": {
   "codemirror_mode": {
    "name": "ipython",
    "version": 3
   },
   "file_extension": ".py",
   "mimetype": "text/x-python",
   "name": "python",
   "nbconvert_exporter": "python",
   "pygments_lexer": "ipython3",
   "version": "3.10.8"
  }
 },
 "nbformat": 4,
 "nbformat_minor": 4
}
